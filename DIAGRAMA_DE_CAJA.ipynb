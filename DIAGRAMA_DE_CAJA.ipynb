{
  "nbformat": 4,
  "nbformat_minor": 0,
  "metadata": {
    "colab": {
      "provenance": [],
      "authorship_tag": "ABX9TyMr26JgWZ0QtmSB3IY86HT9",
      "include_colab_link": true
    },
    "kernelspec": {
      "name": "python3",
      "display_name": "Python 3"
    },
    "language_info": {
      "name": "python"
    }
  },
  "cells": [
    {
      "cell_type": "markdown",
      "metadata": {
        "id": "view-in-github",
        "colab_type": "text"
      },
      "source": [
        "<a href=\"https://colab.research.google.com/github/Anyelike/Anyelik/blob/main/DIAGRAMA_DE_CAJA.ipynb\" target=\"_parent\"><img src=\"https://colab.research.google.com/assets/colab-badge.svg\" alt=\"Open In Colab\"/></a>"
      ]
    },
    {
      "cell_type": "markdown",
      "source": [
        "DIAGRAMAS DE CAJA O (BoxPlots)\n",
        "\n",
        "Nos muestra la distribucion de los datos. Una caracteristica importantes es que con ellos podmos visualizar datos atipicos (posicionados en los extremos)."
      ],
      "metadata": {
        "id": "Li3kXwtZp0pr"
      }
    },
    {
      "cell_type": "code",
      "source": [
        "#Importamos\n",
        "import numpy as np\n",
        "\n",
        "#importamos\n",
        "import matplotlib.pyplot as plt\n",
        "\n",
        "#Ejemplificacmos usando un vector de las edades de personas\n",
        "edades = np.array([4, 17, 29, 33, 50, 51, 61, 71, 85, 92, 99])\n",
        "\n",
        "#Para generar un diagrama de caja usamos el siguiente codigo usando Boxplot indicandole lo que vamos a graficar:\n",
        "plt.boxplot(edades)\n",
        "#Usa el siguiente codigo para mostrar el diagrama:\n",
        "plt.show()"
      ],
      "metadata": {
        "colab": {
          "base_uri": "https://localhost:8080/",
          "height": 430
        },
        "id": "c68g9E43qZ3P",
        "outputId": "6c38b618-c9f5-4f6e-e119-8e867fbdcae0"
      },
      "execution_count": 5,
      "outputs": [
        {
          "output_type": "display_data",
          "data": {
            "text/plain": [
              "<Figure size 640x480 with 1 Axes>"
            ],
            "image/png": "[encoded data removed]"
          },
          "metadata": {}
        }
      ]
    }
  ]
}